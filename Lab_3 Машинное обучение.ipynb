{
 "cells": [
  {
   "cell_type": "markdown",
   "id": "13d6f07c",
   "metadata": {},
   "source": [
    "### Задание 3. Исследование алгоритмов классификацииm"
   ]
  },
  {
   "cell_type": "markdown",
   "id": "3b309104",
   "metadata": {},
   "source": [
    "#### Классы\n",
    "\n",
    "Класс - это группа объектов или явлений, обладающих общими свойствами. Класс играет важную роль в технологиях обнаружения и представление знаний. \n",
    "Например, среди людей с проблемами со здоровьем  можно выделить классы тех, кто старается вести здоровый образ жизни и которые позволяют себе вредные привычки. Также людей можно разбить на классы по уровню их физической подготовки (имеют избыточный вес, тучные, нормальные или спортивные) и т.д.\n",
    "\n",
    "В отличие от кластеров, которые формируются в процессе кластеризации, классы должны быть определены заранее. Поэтому обучение классификаторов — это задача обучения с учителем.\n",
    "\n",
    "Датасет для данной лабораторной будет использоваться отличный от предыдущего: https://www.kaggle.com/datasets/uom190346a/sleep-health-and-lifestyle-dataset\n",
    "\n",
    "Набор данных Sleep Health and Lifestyle состоит из 400 строк и 13 столбцов, охватывающих широкий спектр переменных, связанных со сном и повседневными привычками. Он включает в себя такие детали, как пол, возраст, род занятий, продолжительность сна, качество сна, уровень физической активности, уровень стресса, категория ИМТ, артериальное давление, частота сердечных сокращений, ежедневные шаги, а также наличие или отсутствие нарушений сна. \n"
   ]
  },
  {
   "cell_type": "markdown",
   "id": "4e80314e",
   "metadata": {},
   "source": [
    "### 1. Классификация (kNN, Дерево решений) и анализ данных"
   ]
  },
  {
   "cell_type": "markdown",
   "id": "c7bcbd04",
   "metadata": {},
   "source": [
    "#### Классификация\n",
    "\n",
    "Задача классификации в машинном обучении — это задача отнесения объекта к одному из заранее определенных классов на основании его формализованных признаков. Каждый из объектов в этой задаче представляется в виде вектора в N-мерном пространстве, каждое измерение в котором представляет собой описание одного из признаков объекта. \n",
    "\n",
    "Нам предстоит классифицировать данные о качестве сна людей: измерениями в нашем пространстве параметров будут пол, возраст, продолжительность сна, уровень стресса, пульс и др."
   ]
  },
  {
   "cell_type": "markdown",
   "id": "05f863d6",
   "metadata": {},
   "source": [
    "#### Алгоритм kNN\n",
    "\n",
    "В случае использования метода для классификации объект присваивается тому классу, который является наиболее распространённым среди k соседей данного элемента, классы которых уже известны.\n",
    "\n",
    "Для классификации каждого из объектов тестовой выборки необходимо последовательно выполнить следующие операции:\n",
    "\n",
    "   1. Вычислить расстояние до каждого из объектов обучающей выборки\n",
    "   2. Отобрать k объектов обучающей выборки, расстояние до которых минимально\n",
    "   3. Класс классифицируемого объекта — это класс, наиболее часто встречающийся среди k ближайших соседей"
   ]
  },
  {
   "cell_type": "code",
   "execution_count": 3,
   "id": "95f9d449",
   "metadata": {},
   "outputs": [
    {
     "data": {
      "text/html": [
       "<div>\n",
       "<style scoped>\n",
       "    .dataframe tbody tr th:only-of-type {\n",
       "        vertical-align: middle;\n",
       "    }\n",
       "\n",
       "    .dataframe tbody tr th {\n",
       "        vertical-align: top;\n",
       "    }\n",
       "\n",
       "    .dataframe thead th {\n",
       "        text-align: right;\n",
       "    }\n",
       "</style>\n",
       "<table border=\"1\" class=\"dataframe\">\n",
       "  <thead>\n",
       "    <tr style=\"text-align: right;\">\n",
       "      <th></th>\n",
       "      <th>Person ID</th>\n",
       "      <th>Gender</th>\n",
       "      <th>Age</th>\n",
       "      <th>Occupation</th>\n",
       "      <th>Sleep Duration</th>\n",
       "      <th>Quality of Sleep</th>\n",
       "      <th>Physical Activity Level</th>\n",
       "      <th>Stress Level</th>\n",
       "      <th>BMI Category</th>\n",
       "      <th>Blood Pressure</th>\n",
       "      <th>Heart Rate</th>\n",
       "      <th>Daily Steps</th>\n",
       "      <th>Sleep Disorder</th>\n",
       "    </tr>\n",
       "  </thead>\n",
       "  <tbody>\n",
       "    <tr>\n",
       "      <th>0</th>\n",
       "      <td>1</td>\n",
       "      <td>Male</td>\n",
       "      <td>27</td>\n",
       "      <td>Software Engineer</td>\n",
       "      <td>6.1</td>\n",
       "      <td>6</td>\n",
       "      <td>42</td>\n",
       "      <td>6</td>\n",
       "      <td>Overweight</td>\n",
       "      <td>126/83</td>\n",
       "      <td>77</td>\n",
       "      <td>4200</td>\n",
       "      <td>None</td>\n",
       "    </tr>\n",
       "    <tr>\n",
       "      <th>1</th>\n",
       "      <td>2</td>\n",
       "      <td>Male</td>\n",
       "      <td>28</td>\n",
       "      <td>Doctor</td>\n",
       "      <td>6.2</td>\n",
       "      <td>6</td>\n",
       "      <td>60</td>\n",
       "      <td>8</td>\n",
       "      <td>Normal</td>\n",
       "      <td>125/80</td>\n",
       "      <td>75</td>\n",
       "      <td>10000</td>\n",
       "      <td>None</td>\n",
       "    </tr>\n",
       "    <tr>\n",
       "      <th>2</th>\n",
       "      <td>3</td>\n",
       "      <td>Male</td>\n",
       "      <td>28</td>\n",
       "      <td>Doctor</td>\n",
       "      <td>6.2</td>\n",
       "      <td>6</td>\n",
       "      <td>60</td>\n",
       "      <td>8</td>\n",
       "      <td>Normal</td>\n",
       "      <td>125/80</td>\n",
       "      <td>75</td>\n",
       "      <td>10000</td>\n",
       "      <td>None</td>\n",
       "    </tr>\n",
       "    <tr>\n",
       "      <th>3</th>\n",
       "      <td>4</td>\n",
       "      <td>Male</td>\n",
       "      <td>28</td>\n",
       "      <td>Sales Representative</td>\n",
       "      <td>5.9</td>\n",
       "      <td>4</td>\n",
       "      <td>30</td>\n",
       "      <td>8</td>\n",
       "      <td>Obese</td>\n",
       "      <td>140/90</td>\n",
       "      <td>85</td>\n",
       "      <td>3000</td>\n",
       "      <td>Sleep Apnea</td>\n",
       "    </tr>\n",
       "    <tr>\n",
       "      <th>4</th>\n",
       "      <td>5</td>\n",
       "      <td>Male</td>\n",
       "      <td>28</td>\n",
       "      <td>Sales Representative</td>\n",
       "      <td>5.9</td>\n",
       "      <td>4</td>\n",
       "      <td>30</td>\n",
       "      <td>8</td>\n",
       "      <td>Obese</td>\n",
       "      <td>140/90</td>\n",
       "      <td>85</td>\n",
       "      <td>3000</td>\n",
       "      <td>Sleep Apnea</td>\n",
       "    </tr>\n",
       "  </tbody>\n",
       "</table>\n",
       "</div>"
      ],
      "text/plain": [
       "   Person ID Gender  Age            Occupation  Sleep Duration  \\\n",
       "0          1   Male   27     Software Engineer             6.1   \n",
       "1          2   Male   28                Doctor             6.2   \n",
       "2          3   Male   28                Doctor             6.2   \n",
       "3          4   Male   28  Sales Representative             5.9   \n",
       "4          5   Male   28  Sales Representative             5.9   \n",
       "\n",
       "   Quality of Sleep  Physical Activity Level  Stress Level BMI Category  \\\n",
       "0                 6                       42             6   Overweight   \n",
       "1                 6                       60             8       Normal   \n",
       "2                 6                       60             8       Normal   \n",
       "3                 4                       30             8        Obese   \n",
       "4                 4                       30             8        Obese   \n",
       "\n",
       "  Blood Pressure  Heart Rate  Daily Steps Sleep Disorder  \n",
       "0         126/83          77         4200           None  \n",
       "1         125/80          75        10000           None  \n",
       "2         125/80          75        10000           None  \n",
       "3         140/90          85         3000    Sleep Apnea  \n",
       "4         140/90          85         3000    Sleep Apnea  "
      ]
     },
     "execution_count": 3,
     "metadata": {},
     "output_type": "execute_result"
    }
   ],
   "source": [
    "import pandas as pd\n",
    "import matplotlib.pyplot as plt\n",
    "import seaborn as sns\n",
    "import numpy as np\n",
    "df = pd.read_csv('D:/Sleep_health_and_lifestyle_dataset.csv')\n",
    "df.head()"
   ]
  },
  {
   "cell_type": "markdown",
   "id": "9c3fc0bf",
   "metadata": {},
   "source": [
    "#### Категоризация артериального давления"
   ]
  },
  {
   "cell_type": "markdown",
   "id": "9358a03f",
   "metadata": {},
   "source": [
    "Разделим давление людей на несколько условных групп. Например, группа \"нормального давления\" будет до 120/80, Повышенное - от 120/80 до 130/90 и Высокое - выше 130/90"
   ]
  },
  {
   "cell_type": "code",
   "execution_count": 4,
   "id": "363abdaf",
   "metadata": {},
   "outputs": [],
   "source": [
    "df.loc[df['Blood Pressure']<'120/80','Blood_Pressure_Category'] ='Normal'\n",
    "df.loc[df['Blood Pressure'].between('121/81','130/90'),'Blood_Pressure_Category'] ='Elevated'\n",
    "df.loc[df['Blood Pressure']>'130/91','Blood_Pressure_Category']= 'High'"
   ]
  },
  {
   "cell_type": "code",
   "execution_count": 19,
   "id": "19d6998e",
   "metadata": {},
   "outputs": [],
   "source": [
    "df['BMI Category'].replace({'Normal':0,'Normal Weight':0,'Overweight':1,'Obese':2},inplace = True)"
   ]
  },
  {
   "cell_type": "markdown",
   "id": "8cc6efad",
   "metadata": {},
   "source": [
    "#### Построение корреляции"
   ]
  },
  {
   "cell_type": "markdown",
   "id": "3a4da53f",
   "metadata": {},
   "source": [
    "Проанализируем дополнительно как коррелирует некоторые показатели друг с другом."
   ]
  },
  {
   "cell_type": "code",
   "execution_count": 8,
   "id": "c27624f5",
   "metadata": {},
   "outputs": [
    {
     "data": {
      "image/png": "[encoded data removed]",
      "text/plain": [
       "<Figure size 1440x360 with 3 Axes>"
      ]
     },
     "metadata": {
      "needs_background": "light"
     },
     "output_type": "display_data"
    }
   ],
   "source": [
    "fig,axes = plt.subplots(nrows=1,ncols = 3,figsize=(20,5))\n",
    "\n",
    "sns.lineplot(ax=axes[0],x='Sleep Duration',y='Quality of Sleep',data = df);\n",
    "sns.lineplot(ax=axes[1],x='Sleep Duration',y ='Stress Level',data = df);\n",
    "sns.lineplot(ax=axes[2],x='Sleep Duration',y ='Physical Activity Level',data = df);\n",
    "\n",
    "axes[0].title.set_text('Взаимосвязь между продолжительностью сна и качеством сна')\n",
    "axes[1].title.set_text('Взаимосвязь между продолжительностью сна и уровнем стресса')\n",
    "axes[2].title.set_text('Взаимосвязь между продолжительностью сна и физической активностью')"
   ]
  },
  {
   "cell_type": "markdown",
   "id": "7d1eb291",
   "metadata": {},
   "source": [
    "Можно также расмотреть качество сна между различными группами испытумых по роду деятельности."
   ]
  },
  {
   "cell_type": "code",
   "execution_count": 9,
   "id": "78809702",
   "metadata": {},
   "outputs": [
    {
     "data": {
      "image/png": "[encoded data removed]",
      "text/plain": [
       "<Figure size 720x360 with 1 Axes>"
      ]
     },
     "metadata": {
      "needs_background": "light"
     },
     "output_type": "display_data"
    }
   ],
   "source": [
    "plt.figure(figsize=(10,5))\n",
    "sns.barplot(x='Quality of Sleep',y='Occupation',data = df, orient='h',palette = 'rocket');"
   ]
  },
  {
   "cell_type": "markdown",
   "id": "7e67d064",
   "metadata": {},
   "source": [
    "#### ML модель"
   ]
  },
  {
   "cell_type": "code",
   "execution_count": 24,
   "id": "7bf3e4ea",
   "metadata": {},
   "outputs": [],
   "source": [
    "from sklearn.model_selection import train_test_split\n",
    "from sklearn.model_selection import cross_val_score,KFold\n",
    "from sklearn.neighbors import NearestNeighbors, KNeighborsClassifier\n",
    "from sklearn.metrics import classification_report, confusion_matrix\n",
    "from sklearn.linear_model import LogisticRegression\n",
    "from sklearn import metrics\n",
    "from sklearn.ensemble import RandomForestRegressor\n",
    "from sklearn.preprocessing import StandardScaler\n",
    "from sklearn.metrics import r2_score\n",
    "from sklearn.linear_model import LinearRegression\n",
    "from sklearn.linear_model import Ridge\n",
    "from sklearn.neighbors import KNeighborsRegressor\n",
    "from sklearn.metrics import mean_squared_error\n",
    "df = pd.get_dummies(df,columns = ['Sleep Disorder','Sleep Disorder','Blood_Pressure_Category'])"
   ]
  },
  {
   "cell_type": "code",
   "execution_count": 25,
   "id": "2140a7ad",
   "metadata": {},
   "outputs": [],
   "source": [
    "df.drop(columns = ['Person ID','Occupation','Quality of Sleep','Blood Pressure'],inplace = True)\n",
    "df['Gender']= df['Gender'].replace({'Male':1,'Female':2})\n",
    "\n",
    "X = df.drop('Sleep Duration',axis = 1)\n",
    "y = df['Sleep Duration']"
   ]
  },
  {
   "cell_type": "code",
   "execution_count": 26,
   "id": "48cb0cba",
   "metadata": {},
   "outputs": [],
   "source": [
    "X_train, X_test, y_train, y_test = train_test_split(X, y, test_size=0.3,random_state=42)"
   ]
  },
  {
   "cell_type": "code",
   "execution_count": 27,
   "id": "e5402f4f",
   "metadata": {},
   "outputs": [],
   "source": [
    "\n",
    "\n",
    "scaler = StandardScaler()\n",
    "X_train_scaled = scaler.fit_transform(X_train)\n",
    "X_test_scaled = scaler.transform(X_test)\n",
    "\n"
   ]
  },
  {
   "cell_type": "markdown",
   "id": "e0ea3532",
   "metadata": {},
   "source": [
    "#### Линейная регрессия"
   ]
  },
  {
   "cell_type": "code",
   "execution_count": 51,
   "id": "89fe7998",
   "metadata": {},
   "outputs": [
    {
     "name": "stdout",
     "output_type": "stream",
     "text": [
      "Mean squared error: 0.06207868106214097\n",
      "R-squared: 0.9095953223387258\n"
     ]
    }
   ],
   "source": [
    "ridge_reg = Ridge(alpha=10)\n",
    "ridge_reg.fit(X_train_scaled,y_train)\n",
    "ridge_pred = ridge_reg.predict(X_test_scaled)\n",
    "\n",
    "\n",
    "print('Mean squared error:', mean_squared_error(y_test, ridge_pred))\n",
    "print('R-squared:', r2_score(y_test, ridge_pred))"
   ]
  },
  {
   "cell_type": "markdown",
   "id": "056e862f",
   "metadata": {},
   "source": [
    "#### KNN регрессия"
   ]
  },
  {
   "cell_type": "code",
   "execution_count": 48,
   "id": "3179f449",
   "metadata": {},
   "outputs": [
    {
     "name": "stdout",
     "output_type": "stream",
     "text": [
      "Mean squared error: 0.05170088495575222\n",
      "R-squared: 0.924708422291564\n"
     ]
    }
   ],
   "source": [
    "knn = KNeighborsRegressor(n_neighbors=10)\n",
    "\n",
    "knn.fit(X_train_scaled,y_train)\n",
    "knn_pred = knn.predict(X_test_scaled)\n",
    "\n",
    "\n",
    "print('Mean squared error:', mean_squared_error(y_test, knn_pred))\n",
    "print('R-squared:', r2_score(y_test, knn_pred))"
   ]
  },
  {
   "cell_type": "markdown",
   "id": "619c9c54",
   "metadata": {},
   "source": [
    "#### Случайный лес"
   ]
  },
  {
   "cell_type": "code",
   "execution_count": 52,
   "id": "86d8deee",
   "metadata": {},
   "outputs": [
    {
     "name": "stdout",
     "output_type": "stream",
     "text": [
      "Mean squared error: 0.010415659276407455\n",
      "R-squared: 0.9848317602210217\n"
     ]
    }
   ],
   "source": [
    "regressor = RandomForestRegressor(n_estimators=100, max_depth=5)\n",
    "regressor.fit(X_train, y_train)\n",
    "y_pred = regressor.predict(X_test)\n",
    "\n",
    "print('Mean squared error:', mean_squared_error(y_test, y_pred))\n",
    "print('R-squared:', r2_score(y_test, y_pred))"
   ]
  },
  {
   "cell_type": "markdown",
   "id": "7209d4e5",
   "metadata": {},
   "source": [
    "#### Lasso регрессия"
   ]
  },
  {
   "cell_type": "code",
   "execution_count": 54,
   "id": "37432a5b",
   "metadata": {},
   "outputs": [
    {
     "name": "stdout",
     "output_type": "stream",
     "text": [
      "Mean squared error: 0.16443863055908278\n",
      "R-squared: 0.7605293615069835\n"
     ]
    }
   ],
   "source": [
    "from sklearn.linear_model import Lasso\n",
    "from sklearn.metrics import mean_squared_error\n",
    "\n",
    "model = Lasso(alpha=0.1)\n",
    "\n",
    "model.fit(X_train_scaled, y_train)\n",
    "laso_pred = model.predict(X_test_scaled)\n",
    "\n",
    "print('Mean squared error:', mean_squared_error(y_test, laso_pred))\n",
    "print('R-squared:', r2_score(y_test, laso_pred))"
   ]
  },
  {
   "cell_type": "markdown",
   "id": "83eb5438",
   "metadata": {},
   "source": [
    "### 2. Метрики оценки качества"
   ]
  },
  {
   "cell_type": "markdown",
   "id": "ff4713ca",
   "metadata": {},
   "source": [
    "#### ROC - AUC"
   ]
  },
  {
   "cell_type": "code",
   "execution_count": null,
   "id": "1707f8b6",
   "metadata": {},
   "outputs": [],
   "source": [
    "from sklearn.metrics import roc_curve\n",
    "y_pred_proba = knn.predict_proba(X_test)[::,1]\n",
    "fpr, tpr, thresholds = roc_curve(y_test, y_pred_proba)"
   ]
  },
  {
   "cell_type": "code",
   "execution_count": null,
   "id": "879cbb8f",
   "metadata": {},
   "outputs": [],
   "source": [
    "plt.plot([0,1],[0,1],'k--')\n",
    "plt.plot(fpr,tpr, label='Knn')\n",
    "plt.xlabel('fpr')\n",
    "plt.ylabel('tpr')\n",
    "plt.title('Knn(n_neighbors=11) ROC curve')\n",
    "plt.show()"
   ]
  },
  {
   "cell_type": "code",
   "execution_count": null,
   "id": "6de19a11",
   "metadata": {},
   "outputs": [],
   "source": [
    "from sklearn.metrics import roc_auc_score\n",
    "roc_auc_score(y_test,y_pred_proba)"
   ]
  },
  {
   "cell_type": "markdown",
   "id": "961b1ba1",
   "metadata": {},
   "source": [
    "### 3. Выводы"
   ]
  },
  {
   "cell_type": "markdown",
   "id": "51b8678f",
   "metadata": {},
   "source": [
    "Данные показывают, что существует четкая корреляция между некоторыми параметрами, такими как продолжительностью и качеством сна. Существует целый ряд факторов, которые могут повлиять на качество сна, включая уровень стресса, физическую активность и род занятий. "
   ]
  }
 ],
 "metadata": {
  "kernelspec": {
   "display_name": "gpu2",
   "language": "python",
   "name": "gpu2"
  },
  "language_info": {
   "codemirror_mode": {
    "name": "ipython",
    "version": 3
   },
   "file_extension": ".py",
   "mimetype": "text/x-python",
   "name": "python",
   "nbconvert_exporter": "python",
   "pygments_lexer": "ipython3",
   "version": "3.9.7"
  }
 },
 "nbformat": 4,
 "nbformat_minor": 5
}
